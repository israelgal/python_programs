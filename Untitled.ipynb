{
 "cells": [
  {
   "cell_type": "markdown",
   "id": "e7acb9b1",
   "metadata": {},
   "source": [
    "# Wave guides "
   ]
  },
  {
   "cell_type": "code",
   "execution_count": 1,
   "id": "287cee14-208d-4b27-b256-f667e1be9b97",
   "metadata": {},
   "outputs": [],
   "source": [
    "import numpy as np \n",
    "import matplotlib.pyplot as plt \n",
    "import sympy as sy "
   ]
  },
  {
   "cell_type": "code",
   "execution_count": 2,
   "id": "32edc0f1-2123-4191-bfb3-2e07a169b341",
   "metadata": {},
   "outputs": [],
   "source": [
    "u1, u2, k1, k2, x, z, alpha = sy.symbols('u1 u2 k1 k2 x z alpha')"
   ]
  },
  {
   "cell_type": "code",
   "execution_count": 4,
   "id": "5112168e-3b66-4c32-b451-5ed0c43c8b74",
   "metadata": {},
   "outputs": [
    {
     "data": {
      "text/latex": [
       "$\\displaystyle \\alpha$"
      ],
      "text/plain": [
       "alpha"
      ]
     },
     "execution_count": 4,
     "metadata": {},
     "output_type": "execute_result"
    }
   ],
   "source": []
  },
  {
   "cell_type": "code",
   "execution_count": null,
   "id": "57dc935f-f617-4713-b5c4-6d89828c08e7",
   "metadata": {},
   "outputs": [],
   "source": []
  }
 ],
 "metadata": {
  "kernelspec": {
   "display_name": "Python 3 (ipykernel)",
   "language": "python",
   "name": "python3"
  },
  "language_info": {
   "codemirror_mode": {
    "name": "ipython",
    "version": 3
   },
   "file_extension": ".py",
   "mimetype": "text/x-python",
   "name": "python",
   "nbconvert_exporter": "python",
   "pygments_lexer": "ipython3",
   "version": "3.11.6"
  }
 },
 "nbformat": 4,
 "nbformat_minor": 5
}
